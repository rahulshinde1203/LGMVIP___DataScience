{
  "nbformat": 4,
  "nbformat_minor": 0,
  "metadata": {
    "colab": {
      "name": "LGMVIP_Stock_Market_Prediction_and_Forecasting_Using_Stacked_LSTM.ipynb",
      "provenance": [],
      "collapsed_sections": [],
      "authorship_tag": "ABX9TyMHuwerJD3r6dvQ4xc3iOgB",
      "include_colab_link": true
    },
    "kernelspec": {
      "name": "python3",
      "display_name": "Python 3"
    },
    "language_info": {
      "name": "python"
    }
  },
  "cells": [
    {
      "cell_type": "markdown",
      "metadata": {
        "id": "view-in-github",
        "colab_type": "text"
      },
      "source": [
        "<a href=\"https://colab.research.google.com/github/rahulshinde1203/LGMVIP___DataScience/blob/main/LGMVIP_Stock_Market_Prediction_and_Forecasting_Using_Stacked_LSTM.ipynb\" target=\"_parent\"><img src=\"https://colab.research.google.com/assets/colab-badge.svg\" alt=\"Open In Colab\"/></a>"
      ]
    },
    {
      "cell_type": "markdown",
      "source": [
        "TASK 2 : Stock Market Prediction and Forecasting Using Stacked LSTM\n",
        "\n"
      ],
      "metadata": {
        "id": "_2er0vDub0Qk"
      }
    },
    {
      "cell_type": "markdown",
      "source": [
        "Performed by : Rahul Shinde"
      ],
      "metadata": {
        "id": "uHdG4hQbcWfX"
      }
    },
    {
      "cell_type": "markdown",
      "source": [
        "Import the Necessary libraries"
      ],
      "metadata": {
        "id": "vuPdHyMDcaIT"
      }
    },
    {
      "cell_type": "code",
      "source": [
        "import numpy as np\n",
        "import matplotlib.pyplot as plt\n",
        "import pandas as pd"
      ],
      "metadata": {
        "id": "j6UaF9ewcXMJ"
      },
      "execution_count": 2,
      "outputs": []
    },
    {
      "cell_type": "code",
      "source": [
        "url = 'https://raw.githubusercontent.com/mwitiderrick/stockprice/master/NSE-TATAGLOBAL.csv'\n",
        "dataset_train = pd.read_csv(url)\n",
        "training_set = dataset_train.iloc[:,1:2].values"
      ],
      "metadata": {
        "id": "MvroWAs9cgMG"
      },
      "execution_count": 3,
      "outputs": []
    },
    {
      "cell_type": "code",
      "source": [
        "dataset_train.head()"
      ],
      "metadata": {
        "colab": {
          "base_uri": "https://localhost:8080/",
          "height": 206
        },
        "id": "l-zSej2OciI4",
        "outputId": "ad299c0c-ebe5-4544-8dd4-0a1616ad0430"
      },
      "execution_count": 4,
      "outputs": [
        {
          "output_type": "execute_result",
          "data": {
            "text/html": [
              "\n",
              "  <div id=\"df-a78084de-ba87-4486-a098-356987114921\">\n",
              "    <div class=\"colab-df-container\">\n",
              "      <div>\n",
              "<style scoped>\n",
              "    .dataframe tbody tr th:only-of-type {\n",
              "        vertical-align: middle;\n",
              "    }\n",
              "\n",
              "    .dataframe tbody tr th {\n",
              "        vertical-align: top;\n",
              "    }\n",
              "\n",
              "    .dataframe thead th {\n",
              "        text-align: right;\n",
              "    }\n",
              "</style>\n",
              "<table border=\"1\" class=\"dataframe\">\n",
              "  <thead>\n",
              "    <tr style=\"text-align: right;\">\n",
              "      <th></th>\n",
              "      <th>Date</th>\n",
              "      <th>Open</th>\n",
              "      <th>High</th>\n",
              "      <th>Low</th>\n",
              "      <th>Last</th>\n",
              "      <th>Close</th>\n",
              "      <th>Total Trade Quantity</th>\n",
              "      <th>Turnover (Lacs)</th>\n",
              "    </tr>\n",
              "  </thead>\n",
              "  <tbody>\n",
              "    <tr>\n",
              "      <th>0</th>\n",
              "      <td>2018-09-28</td>\n",
              "      <td>234.05</td>\n",
              "      <td>235.95</td>\n",
              "      <td>230.20</td>\n",
              "      <td>233.50</td>\n",
              "      <td>233.75</td>\n",
              "      <td>3069914</td>\n",
              "      <td>7162.35</td>\n",
              "    </tr>\n",
              "    <tr>\n",
              "      <th>1</th>\n",
              "      <td>2018-09-27</td>\n",
              "      <td>234.55</td>\n",
              "      <td>236.80</td>\n",
              "      <td>231.10</td>\n",
              "      <td>233.80</td>\n",
              "      <td>233.25</td>\n",
              "      <td>5082859</td>\n",
              "      <td>11859.95</td>\n",
              "    </tr>\n",
              "    <tr>\n",
              "      <th>2</th>\n",
              "      <td>2018-09-26</td>\n",
              "      <td>240.00</td>\n",
              "      <td>240.00</td>\n",
              "      <td>232.50</td>\n",
              "      <td>235.00</td>\n",
              "      <td>234.25</td>\n",
              "      <td>2240909</td>\n",
              "      <td>5248.60</td>\n",
              "    </tr>\n",
              "    <tr>\n",
              "      <th>3</th>\n",
              "      <td>2018-09-25</td>\n",
              "      <td>233.30</td>\n",
              "      <td>236.75</td>\n",
              "      <td>232.00</td>\n",
              "      <td>236.25</td>\n",
              "      <td>236.10</td>\n",
              "      <td>2349368</td>\n",
              "      <td>5503.90</td>\n",
              "    </tr>\n",
              "    <tr>\n",
              "      <th>4</th>\n",
              "      <td>2018-09-24</td>\n",
              "      <td>233.55</td>\n",
              "      <td>239.20</td>\n",
              "      <td>230.75</td>\n",
              "      <td>234.00</td>\n",
              "      <td>233.30</td>\n",
              "      <td>3423509</td>\n",
              "      <td>7999.55</td>\n",
              "    </tr>\n",
              "  </tbody>\n",
              "</table>\n",
              "</div>\n",
              "      <button class=\"colab-df-convert\" onclick=\"convertToInteractive('df-a78084de-ba87-4486-a098-356987114921')\"\n",
              "              title=\"Convert this dataframe to an interactive table.\"\n",
              "              style=\"display:none;\">\n",
              "        \n",
              "  <svg xmlns=\"http://www.w3.org/2000/svg\" height=\"24px\"viewBox=\"0 0 24 24\"\n",
              "       width=\"24px\">\n",
              "    <path d=\"M0 0h24v24H0V0z\" fill=\"none\"/>\n",
              "    <path d=\"M18.56 5.44l.94 2.06.94-2.06 2.06-.94-2.06-.94-.94-2.06-.94 2.06-2.06.94zm-11 1L8.5 8.5l.94-2.06 2.06-.94-2.06-.94L8.5 2.5l-.94 2.06-2.06.94zm10 10l.94 2.06.94-2.06 2.06-.94-2.06-.94-.94-2.06-.94 2.06-2.06.94z\"/><path d=\"M17.41 7.96l-1.37-1.37c-.4-.4-.92-.59-1.43-.59-.52 0-1.04.2-1.43.59L10.3 9.45l-7.72 7.72c-.78.78-.78 2.05 0 2.83L4 21.41c.39.39.9.59 1.41.59.51 0 1.02-.2 1.41-.59l7.78-7.78 2.81-2.81c.8-.78.8-2.07 0-2.86zM5.41 20L4 18.59l7.72-7.72 1.47 1.35L5.41 20z\"/>\n",
              "  </svg>\n",
              "      </button>\n",
              "      \n",
              "  <style>\n",
              "    .colab-df-container {\n",
              "      display:flex;\n",
              "      flex-wrap:wrap;\n",
              "      gap: 12px;\n",
              "    }\n",
              "\n",
              "    .colab-df-convert {\n",
              "      background-color: #E8F0FE;\n",
              "      border: none;\n",
              "      border-radius: 50%;\n",
              "      cursor: pointer;\n",
              "      display: none;\n",
              "      fill: #1967D2;\n",
              "      height: 32px;\n",
              "      padding: 0 0 0 0;\n",
              "      width: 32px;\n",
              "    }\n",
              "\n",
              "    .colab-df-convert:hover {\n",
              "      background-color: #E2EBFA;\n",
              "      box-shadow: 0px 1px 2px rgba(60, 64, 67, 0.3), 0px 1px 3px 1px rgba(60, 64, 67, 0.15);\n",
              "      fill: #174EA6;\n",
              "    }\n",
              "\n",
              "    [theme=dark] .colab-df-convert {\n",
              "      background-color: #3B4455;\n",
              "      fill: #D2E3FC;\n",
              "    }\n",
              "\n",
              "    [theme=dark] .colab-df-convert:hover {\n",
              "      background-color: #434B5C;\n",
              "      box-shadow: 0px 1px 3px 1px rgba(0, 0, 0, 0.15);\n",
              "      filter: drop-shadow(0px 1px 2px rgba(0, 0, 0, 0.3));\n",
              "      fill: #FFFFFF;\n",
              "    }\n",
              "  </style>\n",
              "\n",
              "      <script>\n",
              "        const buttonEl =\n",
              "          document.querySelector('#df-a78084de-ba87-4486-a098-356987114921 button.colab-df-convert');\n",
              "        buttonEl.style.display =\n",
              "          google.colab.kernel.accessAllowed ? 'block' : 'none';\n",
              "\n",
              "        async function convertToInteractive(key) {\n",
              "          const element = document.querySelector('#df-a78084de-ba87-4486-a098-356987114921');\n",
              "          const dataTable =\n",
              "            await google.colab.kernel.invokeFunction('convertToInteractive',\n",
              "                                                     [key], {});\n",
              "          if (!dataTable) return;\n",
              "\n",
              "          const docLinkHtml = 'Like what you see? Visit the ' +\n",
              "            '<a target=\"_blank\" href=https://colab.research.google.com/notebooks/data_table.ipynb>data table notebook</a>'\n",
              "            + ' to learn more about interactive tables.';\n",
              "          element.innerHTML = '';\n",
              "          dataTable['output_type'] = 'display_data';\n",
              "          await google.colab.output.renderOutput(dataTable, element);\n",
              "          const docLink = document.createElement('div');\n",
              "          docLink.innerHTML = docLinkHtml;\n",
              "          element.appendChild(docLink);\n",
              "        }\n",
              "      </script>\n",
              "    </div>\n",
              "  </div>\n",
              "  "
            ],
            "text/plain": [
              "         Date    Open    High  ...   Close  Total Trade Quantity  Turnover (Lacs)\n",
              "0  2018-09-28  234.05  235.95  ...  233.75               3069914          7162.35\n",
              "1  2018-09-27  234.55  236.80  ...  233.25               5082859         11859.95\n",
              "2  2018-09-26  240.00  240.00  ...  234.25               2240909          5248.60\n",
              "3  2018-09-25  233.30  236.75  ...  236.10               2349368          5503.90\n",
              "4  2018-09-24  233.55  239.20  ...  233.30               3423509          7999.55\n",
              "\n",
              "[5 rows x 8 columns]"
            ]
          },
          "metadata": {},
          "execution_count": 4
        }
      ]
    },
    {
      "cell_type": "code",
      "source": [
        "data_close = dataset_train['Close']"
      ],
      "metadata": {
        "id": "3XjZMHXccsnu"
      },
      "execution_count": 5,
      "outputs": []
    },
    {
      "cell_type": "code",
      "source": [
        "data_close"
      ],
      "metadata": {
        "colab": {
          "base_uri": "https://localhost:8080/"
        },
        "id": "lh8FC-NLcxuq",
        "outputId": "ec70d3e0-23cc-4db3-dcc4-1e5e566da098"
      },
      "execution_count": 6,
      "outputs": [
        {
          "output_type": "execute_result",
          "data": {
            "text/plain": [
              "0       233.75\n",
              "1       233.25\n",
              "2       234.25\n",
              "3       236.10\n",
              "4       233.30\n",
              "         ...  \n",
              "2030    118.65\n",
              "2031    117.60\n",
              "2032    120.65\n",
              "2033    120.90\n",
              "2034    121.55\n",
              "Name: Close, Length: 2035, dtype: float64"
            ]
          },
          "metadata": {},
          "execution_count": 6
        }
      ]
    },
    {
      "cell_type": "code",
      "source": [
        "plt.plot(data_close)"
      ],
      "metadata": {
        "colab": {
          "base_uri": "https://localhost:8080/",
          "height": 282
        },
        "id": "Ffad5RUyc1DC",
        "outputId": "b7439b39-43d8-49da-f189-0ca94e41c7e5"
      },
      "execution_count": 7,
      "outputs": [
        {
          "output_type": "execute_result",
          "data": {
            "text/plain": [
              "[<matplotlib.lines.Line2D at 0x7f9ff3b8ad10>]"
            ]
          },
          "metadata": {},
          "execution_count": 7
        },
        {
          "output_type": "display_data",
          "data": {
            "image/png": "[encoded data removed]",
            "text/plain": [
              "<Figure size 432x288 with 1 Axes>"
            ]
          },
          "metadata": {
            "needs_background": "light"
          }
        }
      ]
    },
    {
      "cell_type": "markdown",
      "source": [
        "Data Normalization"
      ],
      "metadata": {
        "id": "JumFPXAmc-hv"
      }
    },
    {
      "cell_type": "code",
      "source": [
        "from sklearn.preprocessing import MinMaxScaler\n",
        "scaler = MinMaxScaler(feature_range = (0,1))\n",
        "data_close = scaler.fit_transform(np.array(data_close).reshape(-1,1))"
      ],
      "metadata": {
        "id": "L6Zuj2G_dF93"
      },
      "execution_count": 9,
      "outputs": []
    },
    {
      "cell_type": "code",
      "source": [
        "data_close.shape"
      ],
      "metadata": {
        "colab": {
          "base_uri": "https://localhost:8080/"
        },
        "id": "PvCsUdp_dIQo",
        "outputId": "3e025ea9-95a9-47f9-f4c9-540790e8406c"
      },
      "execution_count": 10,
      "outputs": [
        {
          "output_type": "execute_result",
          "data": {
            "text/plain": [
              "(2035, 1)"
            ]
          },
          "metadata": {},
          "execution_count": 10
        }
      ]
    },
    {
      "cell_type": "code",
      "source": [
        "print(data_close)"
      ],
      "metadata": {
        "colab": {
          "base_uri": "https://localhost:8080/"
        },
        "id": "KS1beyMjdYlf",
        "outputId": "b590c42c-00e0-4ac9-9adf-dc71bd28f6c6"
      },
      "execution_count": 12,
      "outputs": [
        {
          "output_type": "stream",
          "name": "stdout",
          "text": [
            "[[0.62418301]\n",
            " [0.62214052]\n",
            " [0.62622549]\n",
            " ...\n",
            " [0.1621732 ]\n",
            " [0.16319444]\n",
            " [0.16584967]]\n"
          ]
        }
      ]
    },
    {
      "cell_type": "markdown",
      "source": [
        "Train and Test Split"
      ],
      "metadata": {
        "id": "t-qroyNpdmX0"
      }
    },
    {
      "cell_type": "code",
      "source": [
        "training_size = int(len(data_close)*0.75)\n",
        "test_size = len(data_close) - training_size\n",
        "train_data, test_data = data_close[0:training_size,:], data_close[training_size:len(data_close),:1]"
      ],
      "metadata": {
        "id": "Xe3PMNtodeBA"
      },
      "execution_count": 13,
      "outputs": []
    },
    {
      "cell_type": "code",
      "source": [
        "def create_dataset(dataset, time_step = 1):\n",
        "    dataX, dataY = [], []\n",
        "    for i in range(len(dataset)- time_step - 1):\n",
        "        a = dataset[i:(i+time_step), 0]\n",
        "        dataX.append(a)\n",
        "        dataY.append(dataset[i+time_step, 0])\n",
        "    return np.array(dataX), np.array(dataY)"
      ],
      "metadata": {
        "id": "wisDuv_8dze5"
      },
      "execution_count": 14,
      "outputs": []
    },
    {
      "cell_type": "code",
      "source": [
        "time_step = 100\n",
        "x_train, y_train = create_dataset(train_data, time_step)\n",
        "x_test, y_test = create_dataset(test_data, time_step)"
      ],
      "metadata": {
        "id": "Ak-F2gnkd2_c"
      },
      "execution_count": 15,
      "outputs": []
    },
    {
      "cell_type": "code",
      "source": [
        "#Reshape the input to be [samples , time steps, features] which the requirement of LSTM\n",
        "x_train = x_train.reshape(x_train.shape[0], x_train.shape[1], 1)\n",
        "x_test = x_test.reshape(x_test.shape[0], x_test.shape[1], 1)"
      ],
      "metadata": {
        "id": "yr_5LXRUd5Ck"
      },
      "execution_count": 16,
      "outputs": []
    },
    {
      "cell_type": "code",
      "source": [
        "#create the LSTM Model\n",
        "from keras.models import Sequential\n",
        "from keras.layers import LSTM\n",
        "from keras.layers import Dropout\n",
        "from keras.layers import Dense\n",
        "model = Sequential()\n",
        "model.add(LSTM(50,return_sequences = True, input_shape = (100,1)))\n",
        "model.add(LSTM(50,return_sequences = True))\n",
        "model.add(LSTM(50))\n",
        "model.add(Dense(1))\n",
        "model.compile(loss = 'mean_squared_error', optimizer = 'adam')\n"
      ],
      "metadata": {
        "id": "zCiiu_qEd-eL"
      },
      "execution_count": 17,
      "outputs": []
    },
    {
      "cell_type": "code",
      "source": [
        "model.summary()"
      ],
      "metadata": {
        "colab": {
          "base_uri": "https://localhost:8080/"
        },
        "id": "dp4cvBlFeIkm",
        "outputId": "fb26896d-dcee-4a14-bbc6-a33c5e9c6867"
      },
      "execution_count": 18,
      "outputs": [
        {
          "output_type": "stream",
          "name": "stdout",
          "text": [
            "Model: \"sequential\"\n",
            "_________________________________________________________________\n",
            " Layer (type)                Output Shape              Param #   \n",
            "=================================================================\n",
            " lstm (LSTM)                 (None, 100, 50)           10400     \n",
            "                                                                 \n",
            " lstm_1 (LSTM)               (None, 100, 50)           20200     \n",
            "                                                                 \n",
            " lstm_2 (LSTM)               (None, 50)                20200     \n",
            "                                                                 \n",
            " dense (Dense)               (None, 1)                 51        \n",
            "                                                                 \n",
            "=================================================================\n",
            "Total params: 50,851\n",
            "Trainable params: 50,851\n",
            "Non-trainable params: 0\n",
            "_________________________________________________________________\n"
          ]
        }
      ]
    },
    {
      "cell_type": "code",
      "source": [
        "model.summary()"
      ],
      "metadata": {
        "colab": {
          "base_uri": "https://localhost:8080/"
        },
        "id": "jg5OCHIReNAE",
        "outputId": "934008fe-3c3e-4bdb-ac11-0bee5d60d4c6"
      },
      "execution_count": 19,
      "outputs": [
        {
          "output_type": "stream",
          "name": "stdout",
          "text": [
            "Model: \"sequential\"\n",
            "_________________________________________________________________\n",
            " Layer (type)                Output Shape              Param #   \n",
            "=================================================================\n",
            " lstm (LSTM)                 (None, 100, 50)           10400     \n",
            "                                                                 \n",
            " lstm_1 (LSTM)               (None, 100, 50)           20200     \n",
            "                                                                 \n",
            " lstm_2 (LSTM)               (None, 50)                20200     \n",
            "                                                                 \n",
            " dense (Dense)               (None, 1)                 51        \n",
            "                                                                 \n",
            "=================================================================\n",
            "Total params: 50,851\n",
            "Trainable params: 50,851\n",
            "Non-trainable params: 0\n",
            "_________________________________________________________________\n"
          ]
        }
      ]
    },
    {
      "cell_type": "code",
      "source": [
        "model.fit(x_train, y_train, validation_data = (x_test, y_test), epochs = 100, batch_size = 64, verbose = 1)"
      ],
      "metadata": {
        "colab": {
          "base_uri": "https://localhost:8080/"
        },
        "id": "nhOXoqABeZ1r",
        "outputId": "5d25940d-18af-48a5-fd2e-1b62fadb7502"
      },
      "execution_count": 20,
      "outputs": [
        {
          "output_type": "stream",
          "name": "stdout",
          "text": [
            "Epoch 1/100\n",
            "23/23 [==============================] - 15s 244ms/step - loss: 0.0178 - val_loss: 0.0052\n",
            "Epoch 2/100\n",
            "23/23 [==============================] - 4s 186ms/step - loss: 0.0020 - val_loss: 6.4965e-04\n",
            "Epoch 3/100\n",
            "23/23 [==============================] - 4s 182ms/step - loss: 0.0014 - val_loss: 8.9133e-04\n",
            "Epoch 4/100\n",
            "23/23 [==============================] - 4s 185ms/step - loss: 0.0013 - val_loss: 7.5863e-04\n",
            "Epoch 5/100\n",
            "23/23 [==============================] - 4s 183ms/step - loss: 0.0013 - val_loss: 0.0011\n",
            "Epoch 6/100\n",
            "23/23 [==============================] - 4s 182ms/step - loss: 0.0013 - val_loss: 0.0016\n",
            "Epoch 7/100\n",
            "23/23 [==============================] - 4s 184ms/step - loss: 0.0012 - val_loss: 7.2462e-04\n",
            "Epoch 8/100\n",
            "23/23 [==============================] - 4s 181ms/step - loss: 0.0010 - val_loss: 7.9504e-04\n",
            "Epoch 9/100\n",
            "23/23 [==============================] - 4s 183ms/step - loss: 0.0010 - val_loss: 7.9570e-04\n",
            "Epoch 10/100\n",
            "23/23 [==============================] - 4s 180ms/step - loss: 9.7411e-04 - val_loss: 8.3087e-04\n",
            "Epoch 11/100\n",
            "23/23 [==============================] - 4s 183ms/step - loss: 9.0291e-04 - val_loss: 7.4416e-04\n",
            "Epoch 12/100\n",
            "23/23 [==============================] - 4s 184ms/step - loss: 8.9586e-04 - val_loss: 7.7338e-04\n",
            "Epoch 13/100\n",
            "23/23 [==============================] - 4s 183ms/step - loss: 8.5405e-04 - val_loss: 8.0618e-04\n",
            "Epoch 14/100\n",
            "23/23 [==============================] - 4s 183ms/step - loss: 7.9840e-04 - val_loss: 8.9684e-04\n",
            "Epoch 15/100\n",
            "23/23 [==============================] - 4s 182ms/step - loss: 7.9958e-04 - val_loss: 7.1174e-04\n",
            "Epoch 16/100\n",
            "23/23 [==============================] - 4s 182ms/step - loss: 7.4573e-04 - val_loss: 7.0646e-04\n",
            "Epoch 17/100\n",
            "23/23 [==============================] - 4s 183ms/step - loss: 7.4020e-04 - val_loss: 7.5897e-04\n",
            "Epoch 18/100\n",
            "23/23 [==============================] - 4s 182ms/step - loss: 8.5959e-04 - val_loss: 9.1197e-04\n",
            "Epoch 19/100\n",
            "23/23 [==============================] - 5s 208ms/step - loss: 7.2184e-04 - val_loss: 7.0170e-04\n",
            "Epoch 20/100\n",
            "23/23 [==============================] - 4s 183ms/step - loss: 6.7860e-04 - val_loss: 6.5480e-04\n",
            "Epoch 21/100\n",
            "23/23 [==============================] - 4s 183ms/step - loss: 6.4568e-04 - val_loss: 7.9085e-04\n",
            "Epoch 22/100\n",
            "23/23 [==============================] - 4s 182ms/step - loss: 6.6189e-04 - val_loss: 7.9995e-04\n",
            "Epoch 23/100\n",
            "23/23 [==============================] - 4s 186ms/step - loss: 6.6313e-04 - val_loss: 5.6165e-04\n",
            "Epoch 24/100\n",
            "23/23 [==============================] - 4s 186ms/step - loss: 5.9855e-04 - val_loss: 5.3387e-04\n",
            "Epoch 25/100\n",
            "23/23 [==============================] - 4s 183ms/step - loss: 5.9301e-04 - val_loss: 6.8055e-04\n",
            "Epoch 26/100\n",
            "23/23 [==============================] - 4s 182ms/step - loss: 5.6506e-04 - val_loss: 5.8183e-04\n",
            "Epoch 27/100\n",
            "23/23 [==============================] - 4s 183ms/step - loss: 6.4246e-04 - val_loss: 7.6006e-04\n",
            "Epoch 28/100\n",
            "23/23 [==============================] - 4s 183ms/step - loss: 5.9102e-04 - val_loss: 6.8061e-04\n",
            "Epoch 29/100\n",
            "23/23 [==============================] - 4s 182ms/step - loss: 5.6346e-04 - val_loss: 5.1608e-04\n",
            "Epoch 30/100\n",
            "23/23 [==============================] - 4s 183ms/step - loss: 5.2604e-04 - val_loss: 6.7190e-04\n",
            "Epoch 31/100\n",
            "23/23 [==============================] - 4s 183ms/step - loss: 5.1741e-04 - val_loss: 5.0835e-04\n",
            "Epoch 32/100\n",
            "23/23 [==============================] - 4s 183ms/step - loss: 5.4650e-04 - val_loss: 4.7973e-04\n",
            "Epoch 33/100\n",
            "23/23 [==============================] - 4s 182ms/step - loss: 5.6558e-04 - val_loss: 3.5926e-04\n",
            "Epoch 34/100\n",
            "23/23 [==============================] - 4s 184ms/step - loss: 4.9176e-04 - val_loss: 5.0224e-04\n",
            "Epoch 35/100\n",
            "23/23 [==============================] - 4s 184ms/step - loss: 4.5907e-04 - val_loss: 4.7721e-04\n",
            "Epoch 36/100\n",
            "23/23 [==============================] - 4s 184ms/step - loss: 4.4949e-04 - val_loss: 4.2539e-04\n",
            "Epoch 37/100\n",
            "23/23 [==============================] - 4s 184ms/step - loss: 4.5686e-04 - val_loss: 4.3325e-04\n",
            "Epoch 38/100\n",
            "23/23 [==============================] - 4s 182ms/step - loss: 4.2628e-04 - val_loss: 5.1152e-04\n",
            "Epoch 39/100\n",
            "23/23 [==============================] - 4s 183ms/step - loss: 4.3622e-04 - val_loss: 4.8211e-04\n",
            "Epoch 40/100\n",
            "23/23 [==============================] - 4s 182ms/step - loss: 4.2267e-04 - val_loss: 5.0322e-04\n",
            "Epoch 41/100\n",
            "23/23 [==============================] - 4s 183ms/step - loss: 4.3720e-04 - val_loss: 2.8544e-04\n",
            "Epoch 42/100\n",
            "23/23 [==============================] - 4s 184ms/step - loss: 4.9130e-04 - val_loss: 4.1300e-04\n",
            "Epoch 43/100\n",
            "23/23 [==============================] - 4s 182ms/step - loss: 4.1905e-04 - val_loss: 4.8438e-04\n",
            "Epoch 44/100\n",
            "23/23 [==============================] - 4s 183ms/step - loss: 4.2417e-04 - val_loss: 5.1488e-04\n",
            "Epoch 45/100\n",
            "23/23 [==============================] - 4s 183ms/step - loss: 3.6909e-04 - val_loss: 3.8158e-04\n",
            "Epoch 46/100\n",
            "23/23 [==============================] - 4s 182ms/step - loss: 3.9094e-04 - val_loss: 3.6195e-04\n",
            "Epoch 47/100\n",
            "23/23 [==============================] - 4s 183ms/step - loss: 3.7306e-04 - val_loss: 3.5354e-04\n",
            "Epoch 48/100\n",
            "23/23 [==============================] - 4s 184ms/step - loss: 3.4252e-04 - val_loss: 2.7776e-04\n",
            "Epoch 49/100\n",
            "23/23 [==============================] - 4s 183ms/step - loss: 4.2315e-04 - val_loss: 4.3628e-04\n",
            "Epoch 50/100\n",
            "23/23 [==============================] - 4s 183ms/step - loss: 3.5536e-04 - val_loss: 3.6001e-04\n",
            "Epoch 51/100\n",
            "23/23 [==============================] - 4s 184ms/step - loss: 3.4482e-04 - val_loss: 3.1520e-04\n",
            "Epoch 52/100\n",
            "23/23 [==============================] - 4s 185ms/step - loss: 3.0835e-04 - val_loss: 2.7964e-04\n",
            "Epoch 53/100\n",
            "23/23 [==============================] - 4s 182ms/step - loss: 3.5101e-04 - val_loss: 2.4322e-04\n",
            "Epoch 54/100\n",
            "23/23 [==============================] - 4s 183ms/step - loss: 4.1707e-04 - val_loss: 4.0809e-04\n",
            "Epoch 55/100\n",
            "23/23 [==============================] - 4s 183ms/step - loss: 3.2084e-04 - val_loss: 2.9527e-04\n",
            "Epoch 56/100\n",
            "23/23 [==============================] - 4s 182ms/step - loss: 2.9959e-04 - val_loss: 2.8293e-04\n",
            "Epoch 57/100\n",
            "23/23 [==============================] - 4s 185ms/step - loss: 3.4362e-04 - val_loss: 2.4654e-04\n",
            "Epoch 58/100\n",
            "23/23 [==============================] - 4s 183ms/step - loss: 2.9404e-04 - val_loss: 2.9040e-04\n",
            "Epoch 59/100\n",
            "23/23 [==============================] - 4s 183ms/step - loss: 2.9819e-04 - val_loss: 3.1766e-04\n",
            "Epoch 60/100\n",
            "23/23 [==============================] - 4s 183ms/step - loss: 2.7635e-04 - val_loss: 2.4004e-04\n",
            "Epoch 61/100\n",
            "23/23 [==============================] - 4s 183ms/step - loss: 2.9576e-04 - val_loss: 2.4481e-04\n",
            "Epoch 62/100\n",
            "23/23 [==============================] - 4s 184ms/step - loss: 2.8395e-04 - val_loss: 2.9887e-04\n",
            "Epoch 63/100\n",
            "23/23 [==============================] - 4s 182ms/step - loss: 2.6681e-04 - val_loss: 3.3053e-04\n",
            "Epoch 64/100\n",
            "23/23 [==============================] - 4s 184ms/step - loss: 3.1980e-04 - val_loss: 3.7927e-04\n",
            "Epoch 65/100\n",
            "23/23 [==============================] - 4s 184ms/step - loss: 2.7641e-04 - val_loss: 3.8855e-04\n",
            "Epoch 66/100\n",
            "23/23 [==============================] - 4s 183ms/step - loss: 3.7547e-04 - val_loss: 2.0011e-04\n",
            "Epoch 67/100\n",
            "23/23 [==============================] - 4s 185ms/step - loss: 2.6966e-04 - val_loss: 2.6863e-04\n",
            "Epoch 68/100\n",
            "23/23 [==============================] - 4s 185ms/step - loss: 2.5010e-04 - val_loss: 2.3932e-04\n",
            "Epoch 69/100\n",
            "23/23 [==============================] - 4s 186ms/step - loss: 2.4789e-04 - val_loss: 3.7408e-04\n",
            "Epoch 70/100\n",
            "23/23 [==============================] - 4s 185ms/step - loss: 2.9778e-04 - val_loss: 2.3506e-04\n",
            "Epoch 71/100\n",
            "23/23 [==============================] - 4s 185ms/step - loss: 2.7050e-04 - val_loss: 3.6800e-04\n",
            "Epoch 72/100\n",
            "23/23 [==============================] - 4s 187ms/step - loss: 2.7795e-04 - val_loss: 2.8100e-04\n",
            "Epoch 73/100\n",
            "23/23 [==============================] - 4s 185ms/step - loss: 2.4209e-04 - val_loss: 1.9523e-04\n",
            "Epoch 74/100\n",
            "23/23 [==============================] - 4s 186ms/step - loss: 2.5534e-04 - val_loss: 3.1921e-04\n",
            "Epoch 75/100\n",
            "23/23 [==============================] - 4s 184ms/step - loss: 2.8599e-04 - val_loss: 2.1099e-04\n",
            "Epoch 76/100\n",
            "23/23 [==============================] - 4s 182ms/step - loss: 2.4036e-04 - val_loss: 3.9202e-04\n",
            "Epoch 77/100\n",
            "23/23 [==============================] - 4s 185ms/step - loss: 3.0354e-04 - val_loss: 2.1478e-04\n",
            "Epoch 78/100\n",
            "23/23 [==============================] - 4s 185ms/step - loss: 2.6153e-04 - val_loss: 2.8077e-04\n",
            "Epoch 79/100\n",
            "23/23 [==============================] - 4s 184ms/step - loss: 2.2991e-04 - val_loss: 2.0575e-04\n",
            "Epoch 80/100\n",
            "23/23 [==============================] - 4s 186ms/step - loss: 2.2774e-04 - val_loss: 1.7999e-04\n",
            "Epoch 81/100\n",
            "23/23 [==============================] - 4s 185ms/step - loss: 2.8811e-04 - val_loss: 4.1155e-04\n",
            "Epoch 82/100\n",
            "23/23 [==============================] - 4s 184ms/step - loss: 3.2231e-04 - val_loss: 2.1722e-04\n",
            "Epoch 83/100\n",
            "23/23 [==============================] - 4s 185ms/step - loss: 2.4774e-04 - val_loss: 2.5914e-04\n",
            "Epoch 84/100\n",
            "23/23 [==============================] - 4s 183ms/step - loss: 2.5435e-04 - val_loss: 1.8676e-04\n",
            "Epoch 85/100\n",
            "23/23 [==============================] - 4s 185ms/step - loss: 2.5762e-04 - val_loss: 2.3993e-04\n",
            "Epoch 86/100\n",
            "23/23 [==============================] - 4s 183ms/step - loss: 2.2165e-04 - val_loss: 2.6737e-04\n",
            "Epoch 87/100\n",
            "23/23 [==============================] - 4s 184ms/step - loss: 2.4916e-04 - val_loss: 3.2083e-04\n",
            "Epoch 88/100\n",
            "23/23 [==============================] - 4s 183ms/step - loss: 2.2222e-04 - val_loss: 2.3777e-04\n",
            "Epoch 89/100\n",
            "23/23 [==============================] - 4s 184ms/step - loss: 2.1583e-04 - val_loss: 1.8820e-04\n",
            "Epoch 90/100\n",
            "23/23 [==============================] - 4s 185ms/step - loss: 2.1190e-04 - val_loss: 2.3296e-04\n",
            "Epoch 91/100\n",
            "23/23 [==============================] - 4s 185ms/step - loss: 2.2186e-04 - val_loss: 1.6477e-04\n",
            "Epoch 92/100\n",
            "23/23 [==============================] - 4s 184ms/step - loss: 2.6021e-04 - val_loss: 1.8978e-04\n",
            "Epoch 93/100\n",
            "23/23 [==============================] - 4s 182ms/step - loss: 2.1677e-04 - val_loss: 1.7328e-04\n",
            "Epoch 94/100\n",
            "23/23 [==============================] - 4s 187ms/step - loss: 2.2571e-04 - val_loss: 2.2783e-04\n",
            "Epoch 95/100\n",
            "23/23 [==============================] - 4s 185ms/step - loss: 2.3361e-04 - val_loss: 2.4135e-04\n",
            "Epoch 96/100\n",
            "23/23 [==============================] - 4s 183ms/step - loss: 2.1443e-04 - val_loss: 1.6988e-04\n",
            "Epoch 97/100\n",
            "23/23 [==============================] - 4s 184ms/step - loss: 2.6762e-04 - val_loss: 3.0563e-04\n",
            "Epoch 98/100\n",
            "23/23 [==============================] - 4s 185ms/step - loss: 3.5053e-04 - val_loss: 2.1058e-04\n",
            "Epoch 99/100\n",
            "23/23 [==============================] - 4s 183ms/step - loss: 2.6379e-04 - val_loss: 2.0226e-04\n",
            "Epoch 100/100\n",
            "23/23 [==============================] - 4s 184ms/step - loss: 2.3920e-04 - val_loss: 1.9882e-04\n"
          ]
        },
        {
          "output_type": "execute_result",
          "data": {
            "text/plain": [
              "<keras.callbacks.History at 0x7f9f79e4b850>"
            ]
          },
          "metadata": {},
          "execution_count": 20
        }
      ]
    },
    {
      "cell_type": "code",
      "source": [
        "#lets predict and check performance matrices\n",
        "train_predict = model.predict(x_train)\n",
        "test_predict = model.predict(x_test)"
      ],
      "metadata": {
        "id": "yS-X3Ba3emUk"
      },
      "execution_count": 21,
      "outputs": []
    },
    {
      "cell_type": "code",
      "source": [
        "#transform back to original form\n",
        "train_predict = scaler.inverse_transform(train_predict)\n",
        "test_predict = scaler.inverse_transform(test_predict)"
      ],
      "metadata": {
        "id": "BfX7pQz9gtCu"
      },
      "execution_count": 22,
      "outputs": []
    },
    {
      "cell_type": "code",
      "source": [
        "#calculate RMSE performance matrices\n",
        "import math\n",
        "from sklearn.metrics import mean_squared_error\n",
        "math.sqrt(mean_squared_error(y_train, train_predict))\n"
      ],
      "metadata": {
        "colab": {
          "base_uri": "https://localhost:8080/"
        },
        "id": "OeUM87KBgwvz",
        "outputId": "1f59bdb5-c7e7-46eb-e253-539b2a5688f3"
      },
      "execution_count": 23,
      "outputs": [
        {
          "output_type": "execute_result",
          "data": {
            "text/plain": [
              "162.0995544641138"
            ]
          },
          "metadata": {},
          "execution_count": 23
        }
      ]
    },
    {
      "cell_type": "code",
      "source": [
        "#test data RMSE\n",
        "math.sqrt(mean_squared_error(y_test, test_predict))"
      ],
      "metadata": {
        "colab": {
          "base_uri": "https://localhost:8080/"
        },
        "id": "Hxu4Zqr6g0Ee",
        "outputId": "86b09b67-2a21-4d3f-cd83-be8ed93b311d"
      },
      "execution_count": 24,
      "outputs": [
        {
          "output_type": "execute_result",
          "data": {
            "text/plain": [
              "105.88169894557996"
            ]
          },
          "metadata": {},
          "execution_count": 24
        }
      ]
    },
    {
      "cell_type": "code",
      "source": [
        "#plotting\n",
        "\n",
        "#Shift train prediction for plotting\n",
        "look_back = 100\n",
        "trainPredictPlot = np.empty_like(data_close)\n",
        "trainPredictPlot[:,:] = np.nan\n",
        "trainPredictPlot[look_back:len(train_predict) + look_back, :]= train_predict\n",
        "\n",
        "#Shift train prediction for plotting\n",
        "testPredictPlot = np.empty_like(data_close)\n",
        "testPredictPlot[:,:] = np.nan\n",
        "testPredictPlot[len(train_predict) + (look_back * 2) + 1:len (data_close) - 1, :]=test_predict\n",
        "\n",
        "#Plot baseline and predictions\n",
        "plt.plot(scaler.inverse_transform(data_close))\n",
        "plt.plot(trainPredictPlot)\n",
        "plt.plot(testPredictPlot)\n",
        "plt.show()"
      ],
      "metadata": {
        "colab": {
          "base_uri": "https://localhost:8080/",
          "height": 265
        },
        "id": "byq0Zeylg60_",
        "outputId": "a427f90f-3f84-4e56-cc92-5c5cf5941732"
      },
      "execution_count": 25,
      "outputs": [
        {
          "output_type": "display_data",
          "data": {
            "image/png": "[encoded data removed]",
            "text/plain": [
              "<Figure size 432x288 with 1 Axes>"
            ]
          },
          "metadata": {
            "needs_background": "light"
          }
        }
      ]
    },
    {
      "cell_type": "markdown",
      "source": [
        "Predict the next 30 days Stock Price\n"
      ],
      "metadata": {
        "id": "6rsZUm8jhLLc"
      }
    },
    {
      "cell_type": "code",
      "source": [
        "len(test_data), x_test.shape"
      ],
      "metadata": {
        "colab": {
          "base_uri": "https://localhost:8080/"
        },
        "id": "6DnoM6aWhNmN",
        "outputId": "8121eb57-755a-4867-a7a0-5c851ae06687"
      },
      "execution_count": 26,
      "outputs": [
        {
          "output_type": "execute_result",
          "data": {
            "text/plain": [
              "(509, (408, 100, 1))"
            ]
          },
          "metadata": {},
          "execution_count": 26
        }
      ]
    },
    {
      "cell_type": "code",
      "source": [
        "x_input = test_data[409:].reshape(1,-1)\n",
        "x_input.shape"
      ],
      "metadata": {
        "colab": {
          "base_uri": "https://localhost:8080/"
        },
        "id": "IRkoEO6Dhd6o",
        "outputId": "76115506-8fc1-4073-e404-a2d3df282fe4"
      },
      "execution_count": 27,
      "outputs": [
        {
          "output_type": "execute_result",
          "data": {
            "text/plain": [
              "(1, 100)"
            ]
          },
          "metadata": {},
          "execution_count": 27
        }
      ]
    },
    {
      "cell_type": "code",
      "source": [
        "temp_input = list (x_input)\n",
        "temp_input = temp_input[0].tolist()"
      ],
      "metadata": {
        "id": "uJv4Ihx8hiWg"
      },
      "execution_count": 28,
      "outputs": []
    },
    {
      "cell_type": "code",
      "source": [
        "first_output =[]\n",
        "n_steps = 100\n",
        "nextNumberOfDays = 30\n",
        "i = 0\n",
        "\n",
        "while (i<nextNumberOfDays):\n",
        "\n",
        "  if(len(temp_input)>100):\n",
        "    x_input = np.array(temp_input[1:])\n",
        "    print(\"{}day input{}\".format(i, x_input))\n",
        "    x_input = x_input.reshape(1,-1)\n",
        "    x_input = x_input.reshape((1, n_steps, 1))\n",
        "    yhat = model.predict(x_input, verbose = 0)\n",
        "    print(\"{} day output {}\".format(i,yhat))\n",
        "    temp_input.extend(yhat[0].tolist())\n",
        "    temp_input = temp_input[1:]\n",
        "    first_output.extend(yhat.tolist())\n",
        "    i=i+1\n",
        "  else:\n",
        "    x_input = x_input.reshape((1, n_steps, 1))\n",
        "    yhat = model.predict(x_input, verbose = 0)\n",
        "    print(yhat[0])\n",
        "    temp_input.extend(yhat[0].tolist())\n",
        "    print(len(temp_input))\n",
        "    first_output.extend(yhat.tolist())\n",
        "    i = i + 1\n",
        "\n",
        "print(first_output)\n"
      ],
      "metadata": {
        "colab": {
          "base_uri": "https://localhost:8080/"
        },
        "id": "ekYMrW3DhqSV",
        "outputId": "6ba8919e-c2fa-41d0-9560-0e4d3da4e427"
      },
      "execution_count": 29,
      "outputs": [
        {
          "output_type": "stream",
          "name": "stdout",
          "text": [
            "[0.16552642]\n",
            "101\n",
            "1day input[0.13848039 0.14011438 0.13888889 0.13541667 0.14011438 0.1380719\n",
            " 0.13071895 0.13071895 0.12867647 0.11846405 0.14644608 0.14808007\n",
            " 0.15910948 0.15992647 0.15788399 0.16441993 0.17892157 0.17933007\n",
            " 0.19260621 0.20812908 0.18974673 0.18055556 0.18239379 0.17708333\n",
            " 0.17810458 0.18055556 0.17810458 0.17851307 0.19607843 0.18913399\n",
            " 0.18954248 0.19403595 0.19444444 0.20200163 0.19771242 0.19934641\n",
            " 0.19873366 0.1997549  0.2128268  0.21568627 0.20445261 0.21772876\n",
            " 0.21098856 0.21425654 0.19750817 0.18811275 0.17851307 0.17381536\n",
            " 0.16033497 0.16564542 0.17116013 0.17422386 0.18035131 0.17401961\n",
            " 0.16278595 0.16973039 0.17810458 0.17034314 0.16830065 0.17279412\n",
            " 0.17544935 0.18382353 0.19138072 0.18913399 0.19097222 0.17238562\n",
            " 0.16830065 0.1693219  0.17177288 0.16156046 0.14971405 0.1503268\n",
            " 0.15196078 0.14726307 0.14501634 0.14603758 0.12479575 0.13112745\n",
            " 0.11397059 0.1190768  0.12377451 0.13562092 0.12908497 0.13459967\n",
            " 0.12806373 0.13031046 0.12724673 0.13521242 0.14522059 0.15257353\n",
            " 0.14848856 0.14338235 0.14562908 0.15236928 0.15400327 0.14971405\n",
            " 0.1621732  0.16319444 0.16584967 0.16552642]\n",
            "1 day output [[0.16695285]]\n",
            "2day input[0.14011438 0.13888889 0.13541667 0.14011438 0.1380719  0.13071895\n",
            " 0.13071895 0.12867647 0.11846405 0.14644608 0.14808007 0.15910948\n",
            " 0.15992647 0.15788399 0.16441993 0.17892157 0.17933007 0.19260621\n",
            " 0.20812908 0.18974673 0.18055556 0.18239379 0.17708333 0.17810458\n",
            " 0.18055556 0.17810458 0.17851307 0.19607843 0.18913399 0.18954248\n",
            " 0.19403595 0.19444444 0.20200163 0.19771242 0.19934641 0.19873366\n",
            " 0.1997549  0.2128268  0.21568627 0.20445261 0.21772876 0.21098856\n",
            " 0.21425654 0.19750817 0.18811275 0.17851307 0.17381536 0.16033497\n",
            " 0.16564542 0.17116013 0.17422386 0.18035131 0.17401961 0.16278595\n",
            " 0.16973039 0.17810458 0.17034314 0.16830065 0.17279412 0.17544935\n",
            " 0.18382353 0.19138072 0.18913399 0.19097222 0.17238562 0.16830065\n",
            " 0.1693219  0.17177288 0.16156046 0.14971405 0.1503268  0.15196078\n",
            " 0.14726307 0.14501634 0.14603758 0.12479575 0.13112745 0.11397059\n",
            " 0.1190768  0.12377451 0.13562092 0.12908497 0.13459967 0.12806373\n",
            " 0.13031046 0.12724673 0.13521242 0.14522059 0.15257353 0.14848856\n",
            " 0.14338235 0.14562908 0.15236928 0.15400327 0.14971405 0.1621732\n",
            " 0.16319444 0.16584967 0.16552642 0.16695285]\n",
            "2 day output [[0.16752136]]\n",
            "3day input[0.13888889 0.13541667 0.14011438 0.1380719  0.13071895 0.13071895\n",
            " 0.12867647 0.11846405 0.14644608 0.14808007 0.15910948 0.15992647\n",
            " 0.15788399 0.16441993 0.17892157 0.17933007 0.19260621 0.20812908\n",
            " 0.18974673 0.18055556 0.18239379 0.17708333 0.17810458 0.18055556\n",
            " 0.17810458 0.17851307 0.19607843 0.18913399 0.18954248 0.19403595\n",
            " 0.19444444 0.20200163 0.19771242 0.19934641 0.19873366 0.1997549\n",
            " 0.2128268  0.21568627 0.20445261 0.21772876 0.21098856 0.21425654\n",
            " 0.19750817 0.18811275 0.17851307 0.17381536 0.16033497 0.16564542\n",
            " 0.17116013 0.17422386 0.18035131 0.17401961 0.16278595 0.16973039\n",
            " 0.17810458 0.17034314 0.16830065 0.17279412 0.17544935 0.18382353\n",
            " 0.19138072 0.18913399 0.19097222 0.17238562 0.16830065 0.1693219\n",
            " 0.17177288 0.16156046 0.14971405 0.1503268  0.15196078 0.14726307\n",
            " 0.14501634 0.14603758 0.12479575 0.13112745 0.11397059 0.1190768\n",
            " 0.12377451 0.13562092 0.12908497 0.13459967 0.12806373 0.13031046\n",
            " 0.12724673 0.13521242 0.14522059 0.15257353 0.14848856 0.14338235\n",
            " 0.14562908 0.15236928 0.15400327 0.14971405 0.1621732  0.16319444\n",
            " 0.16584967 0.16552642 0.16695285 0.16752136]\n",
            "3 day output [[0.16779609]]\n",
            "4day input[0.13541667 0.14011438 0.1380719  0.13071895 0.13071895 0.12867647\n",
            " 0.11846405 0.14644608 0.14808007 0.15910948 0.15992647 0.15788399\n",
            " 0.16441993 0.17892157 0.17933007 0.19260621 0.20812908 0.18974673\n",
            " 0.18055556 0.18239379 0.17708333 0.17810458 0.18055556 0.17810458\n",
            " 0.17851307 0.19607843 0.18913399 0.18954248 0.19403595 0.19444444\n",
            " 0.20200163 0.19771242 0.19934641 0.19873366 0.1997549  0.2128268\n",
            " 0.21568627 0.20445261 0.21772876 0.21098856 0.21425654 0.19750817\n",
            " 0.18811275 0.17851307 0.17381536 0.16033497 0.16564542 0.17116013\n",
            " 0.17422386 0.18035131 0.17401961 0.16278595 0.16973039 0.17810458\n",
            " 0.17034314 0.16830065 0.17279412 0.17544935 0.18382353 0.19138072\n",
            " 0.18913399 0.19097222 0.17238562 0.16830065 0.1693219  0.17177288\n",
            " 0.16156046 0.14971405 0.1503268  0.15196078 0.14726307 0.14501634\n",
            " 0.14603758 0.12479575 0.13112745 0.11397059 0.1190768  0.12377451\n",
            " 0.13562092 0.12908497 0.13459967 0.12806373 0.13031046 0.12724673\n",
            " 0.13521242 0.14522059 0.15257353 0.14848856 0.14338235 0.14562908\n",
            " 0.15236928 0.15400327 0.14971405 0.1621732  0.16319444 0.16584967\n",
            " 0.16552642 0.16695285 0.16752136 0.16779609]\n",
            "4 day output [[0.16795589]]\n",
            "5day input[0.14011438 0.1380719  0.13071895 0.13071895 0.12867647 0.11846405\n",
            " 0.14644608 0.14808007 0.15910948 0.15992647 0.15788399 0.16441993\n",
            " 0.17892157 0.17933007 0.19260621 0.20812908 0.18974673 0.18055556\n",
            " 0.18239379 0.17708333 0.17810458 0.18055556 0.17810458 0.17851307\n",
            " 0.19607843 0.18913399 0.18954248 0.19403595 0.19444444 0.20200163\n",
            " 0.19771242 0.19934641 0.19873366 0.1997549  0.2128268  0.21568627\n",
            " 0.20445261 0.21772876 0.21098856 0.21425654 0.19750817 0.18811275\n",
            " 0.17851307 0.17381536 0.16033497 0.16564542 0.17116013 0.17422386\n",
            " 0.18035131 0.17401961 0.16278595 0.16973039 0.17810458 0.17034314\n",
            " 0.16830065 0.17279412 0.17544935 0.18382353 0.19138072 0.18913399\n",
            " 0.19097222 0.17238562 0.16830065 0.1693219  0.17177288 0.16156046\n",
            " 0.14971405 0.1503268  0.15196078 0.14726307 0.14501634 0.14603758\n",
            " 0.12479575 0.13112745 0.11397059 0.1190768  0.12377451 0.13562092\n",
            " 0.12908497 0.13459967 0.12806373 0.13031046 0.12724673 0.13521242\n",
            " 0.14522059 0.15257353 0.14848856 0.14338235 0.14562908 0.15236928\n",
            " 0.15400327 0.14971405 0.1621732  0.16319444 0.16584967 0.16552642\n",
            " 0.16695285 0.16752136 0.16779609 0.16795589]\n",
            "5 day output [[0.16807076]]\n",
            "6day input[0.1380719  0.13071895 0.13071895 0.12867647 0.11846405 0.14644608\n",
            " 0.14808007 0.15910948 0.15992647 0.15788399 0.16441993 0.17892157\n",
            " 0.17933007 0.19260621 0.20812908 0.18974673 0.18055556 0.18239379\n",
            " 0.17708333 0.17810458 0.18055556 0.17810458 0.17851307 0.19607843\n",
            " 0.18913399 0.18954248 0.19403595 0.19444444 0.20200163 0.19771242\n",
            " 0.19934641 0.19873366 0.1997549  0.2128268  0.21568627 0.20445261\n",
            " 0.21772876 0.21098856 0.21425654 0.19750817 0.18811275 0.17851307\n",
            " 0.17381536 0.16033497 0.16564542 0.17116013 0.17422386 0.18035131\n",
            " 0.17401961 0.16278595 0.16973039 0.17810458 0.17034314 0.16830065\n",
            " 0.17279412 0.17544935 0.18382353 0.19138072 0.18913399 0.19097222\n",
            " 0.17238562 0.16830065 0.1693219  0.17177288 0.16156046 0.14971405\n",
            " 0.1503268  0.15196078 0.14726307 0.14501634 0.14603758 0.12479575\n",
            " 0.13112745 0.11397059 0.1190768  0.12377451 0.13562092 0.12908497\n",
            " 0.13459967 0.12806373 0.13031046 0.12724673 0.13521242 0.14522059\n",
            " 0.15257353 0.14848856 0.14338235 0.14562908 0.15236928 0.15400327\n",
            " 0.14971405 0.1621732  0.16319444 0.16584967 0.16552642 0.16695285\n",
            " 0.16752136 0.16779609 0.16795589 0.16807076]\n",
            "6 day output [[0.16818166]]\n",
            "7day input[0.13071895 0.13071895 0.12867647 0.11846405 0.14644608 0.14808007\n",
            " 0.15910948 0.15992647 0.15788399 0.16441993 0.17892157 0.17933007\n",
            " 0.19260621 0.20812908 0.18974673 0.18055556 0.18239379 0.17708333\n",
            " 0.17810458 0.18055556 0.17810458 0.17851307 0.19607843 0.18913399\n",
            " 0.18954248 0.19403595 0.19444444 0.20200163 0.19771242 0.19934641\n",
            " 0.19873366 0.1997549  0.2128268  0.21568627 0.20445261 0.21772876\n",
            " 0.21098856 0.21425654 0.19750817 0.18811275 0.17851307 0.17381536\n",
            " 0.16033497 0.16564542 0.17116013 0.17422386 0.18035131 0.17401961\n",
            " 0.16278595 0.16973039 0.17810458 0.17034314 0.16830065 0.17279412\n",
            " 0.17544935 0.18382353 0.19138072 0.18913399 0.19097222 0.17238562\n",
            " 0.16830065 0.1693219  0.17177288 0.16156046 0.14971405 0.1503268\n",
            " 0.15196078 0.14726307 0.14501634 0.14603758 0.12479575 0.13112745\n",
            " 0.11397059 0.1190768  0.12377451 0.13562092 0.12908497 0.13459967\n",
            " 0.12806373 0.13031046 0.12724673 0.13521242 0.14522059 0.15257353\n",
            " 0.14848856 0.14338235 0.14562908 0.15236928 0.15400327 0.14971405\n",
            " 0.1621732  0.16319444 0.16584967 0.16552642 0.16695285 0.16752136\n",
            " 0.16779609 0.16795589 0.16807076 0.16818166]\n",
            "7 day output [[0.16831322]]\n",
            "8day input[0.13071895 0.12867647 0.11846405 0.14644608 0.14808007 0.15910948\n",
            " 0.15992647 0.15788399 0.16441993 0.17892157 0.17933007 0.19260621\n",
            " 0.20812908 0.18974673 0.18055556 0.18239379 0.17708333 0.17810458\n",
            " 0.18055556 0.17810458 0.17851307 0.19607843 0.18913399 0.18954248\n",
            " 0.19403595 0.19444444 0.20200163 0.19771242 0.19934641 0.19873366\n",
            " 0.1997549  0.2128268  0.21568627 0.20445261 0.21772876 0.21098856\n",
            " 0.21425654 0.19750817 0.18811275 0.17851307 0.17381536 0.16033497\n",
            " 0.16564542 0.17116013 0.17422386 0.18035131 0.17401961 0.16278595\n",
            " 0.16973039 0.17810458 0.17034314 0.16830065 0.17279412 0.17544935\n",
            " 0.18382353 0.19138072 0.18913399 0.19097222 0.17238562 0.16830065\n",
            " 0.1693219  0.17177288 0.16156046 0.14971405 0.1503268  0.15196078\n",
            " 0.14726307 0.14501634 0.14603758 0.12479575 0.13112745 0.11397059\n",
            " 0.1190768  0.12377451 0.13562092 0.12908497 0.13459967 0.12806373\n",
            " 0.13031046 0.12724673 0.13521242 0.14522059 0.15257353 0.14848856\n",
            " 0.14338235 0.14562908 0.15236928 0.15400327 0.14971405 0.1621732\n",
            " 0.16319444 0.16584967 0.16552642 0.16695285 0.16752136 0.16779609\n",
            " 0.16795589 0.16807076 0.16818166 0.16831322]\n",
            "8 day output [[0.16847678]]\n",
            "9day input[0.12867647 0.11846405 0.14644608 0.14808007 0.15910948 0.15992647\n",
            " 0.15788399 0.16441993 0.17892157 0.17933007 0.19260621 0.20812908\n",
            " 0.18974673 0.18055556 0.18239379 0.17708333 0.17810458 0.18055556\n",
            " 0.17810458 0.17851307 0.19607843 0.18913399 0.18954248 0.19403595\n",
            " 0.19444444 0.20200163 0.19771242 0.19934641 0.19873366 0.1997549\n",
            " 0.2128268  0.21568627 0.20445261 0.21772876 0.21098856 0.21425654\n",
            " 0.19750817 0.18811275 0.17851307 0.17381536 0.16033497 0.16564542\n",
            " 0.17116013 0.17422386 0.18035131 0.17401961 0.16278595 0.16973039\n",
            " 0.17810458 0.17034314 0.16830065 0.17279412 0.17544935 0.18382353\n",
            " 0.19138072 0.18913399 0.19097222 0.17238562 0.16830065 0.1693219\n",
            " 0.17177288 0.16156046 0.14971405 0.1503268  0.15196078 0.14726307\n",
            " 0.14501634 0.14603758 0.12479575 0.13112745 0.11397059 0.1190768\n",
            " 0.12377451 0.13562092 0.12908497 0.13459967 0.12806373 0.13031046\n",
            " 0.12724673 0.13521242 0.14522059 0.15257353 0.14848856 0.14338235\n",
            " 0.14562908 0.15236928 0.15400327 0.14971405 0.1621732  0.16319444\n",
            " 0.16584967 0.16552642 0.16695285 0.16752136 0.16779609 0.16795589\n",
            " 0.16807076 0.16818166 0.16831322 0.16847678]\n",
            "9 day output [[0.16867404]]\n",
            "10day input[0.11846405 0.14644608 0.14808007 0.15910948 0.15992647 0.15788399\n",
            " 0.16441993 0.17892157 0.17933007 0.19260621 0.20812908 0.18974673\n",
            " 0.18055556 0.18239379 0.17708333 0.17810458 0.18055556 0.17810458\n",
            " 0.17851307 0.19607843 0.18913399 0.18954248 0.19403595 0.19444444\n",
            " 0.20200163 0.19771242 0.19934641 0.19873366 0.1997549  0.2128268\n",
            " 0.21568627 0.20445261 0.21772876 0.21098856 0.21425654 0.19750817\n",
            " 0.18811275 0.17851307 0.17381536 0.16033497 0.16564542 0.17116013\n",
            " 0.17422386 0.18035131 0.17401961 0.16278595 0.16973039 0.17810458\n",
            " 0.17034314 0.16830065 0.17279412 0.17544935 0.18382353 0.19138072\n",
            " 0.18913399 0.19097222 0.17238562 0.16830065 0.1693219  0.17177288\n",
            " 0.16156046 0.14971405 0.1503268  0.15196078 0.14726307 0.14501634\n",
            " 0.14603758 0.12479575 0.13112745 0.11397059 0.1190768  0.12377451\n",
            " 0.13562092 0.12908497 0.13459967 0.12806373 0.13031046 0.12724673\n",
            " 0.13521242 0.14522059 0.15257353 0.14848856 0.14338235 0.14562908\n",
            " 0.15236928 0.15400327 0.14971405 0.1621732  0.16319444 0.16584967\n",
            " 0.16552642 0.16695285 0.16752136 0.16779609 0.16795589 0.16807076\n",
            " 0.16818166 0.16831322 0.16847678 0.16867404]\n",
            "10 day output [[0.16890106]]\n",
            "11day input[0.14644608 0.14808007 0.15910948 0.15992647 0.15788399 0.16441993\n",
            " 0.17892157 0.17933007 0.19260621 0.20812908 0.18974673 0.18055556\n",
            " 0.18239379 0.17708333 0.17810458 0.18055556 0.17810458 0.17851307\n",
            " 0.19607843 0.18913399 0.18954248 0.19403595 0.19444444 0.20200163\n",
            " 0.19771242 0.19934641 0.19873366 0.1997549  0.2128268  0.21568627\n",
            " 0.20445261 0.21772876 0.21098856 0.21425654 0.19750817 0.18811275\n",
            " 0.17851307 0.17381536 0.16033497 0.16564542 0.17116013 0.17422386\n",
            " 0.18035131 0.17401961 0.16278595 0.16973039 0.17810458 0.17034314\n",
            " 0.16830065 0.17279412 0.17544935 0.18382353 0.19138072 0.18913399\n",
            " 0.19097222 0.17238562 0.16830065 0.1693219  0.17177288 0.16156046\n",
            " 0.14971405 0.1503268  0.15196078 0.14726307 0.14501634 0.14603758\n",
            " 0.12479575 0.13112745 0.11397059 0.1190768  0.12377451 0.13562092\n",
            " 0.12908497 0.13459967 0.12806373 0.13031046 0.12724673 0.13521242\n",
            " 0.14522059 0.15257353 0.14848856 0.14338235 0.14562908 0.15236928\n",
            " 0.15400327 0.14971405 0.1621732  0.16319444 0.16584967 0.16552642\n",
            " 0.16695285 0.16752136 0.16779609 0.16795589 0.16807076 0.16818166\n",
            " 0.16831322 0.16847678 0.16867404 0.16890106]\n",
            "11 day output [[0.16915135]]\n",
            "12day input[0.14808007 0.15910948 0.15992647 0.15788399 0.16441993 0.17892157\n",
            " 0.17933007 0.19260621 0.20812908 0.18974673 0.18055556 0.18239379\n",
            " 0.17708333 0.17810458 0.18055556 0.17810458 0.17851307 0.19607843\n",
            " 0.18913399 0.18954248 0.19403595 0.19444444 0.20200163 0.19771242\n",
            " 0.19934641 0.19873366 0.1997549  0.2128268  0.21568627 0.20445261\n",
            " 0.21772876 0.21098856 0.21425654 0.19750817 0.18811275 0.17851307\n",
            " 0.17381536 0.16033497 0.16564542 0.17116013 0.17422386 0.18035131\n",
            " 0.17401961 0.16278595 0.16973039 0.17810458 0.17034314 0.16830065\n",
            " 0.17279412 0.17544935 0.18382353 0.19138072 0.18913399 0.19097222\n",
            " 0.17238562 0.16830065 0.1693219  0.17177288 0.16156046 0.14971405\n",
            " 0.1503268  0.15196078 0.14726307 0.14501634 0.14603758 0.12479575\n",
            " 0.13112745 0.11397059 0.1190768  0.12377451 0.13562092 0.12908497\n",
            " 0.13459967 0.12806373 0.13031046 0.12724673 0.13521242 0.14522059\n",
            " 0.15257353 0.14848856 0.14338235 0.14562908 0.15236928 0.15400327\n",
            " 0.14971405 0.1621732  0.16319444 0.16584967 0.16552642 0.16695285\n",
            " 0.16752136 0.16779609 0.16795589 0.16807076 0.16818166 0.16831322\n",
            " 0.16847678 0.16867404 0.16890106 0.16915135]\n",
            "12 day output [[0.16941789]]\n",
            "13day input[0.15910948 0.15992647 0.15788399 0.16441993 0.17892157 0.17933007\n",
            " 0.19260621 0.20812908 0.18974673 0.18055556 0.18239379 0.17708333\n",
            " 0.17810458 0.18055556 0.17810458 0.17851307 0.19607843 0.18913399\n",
            " 0.18954248 0.19403595 0.19444444 0.20200163 0.19771242 0.19934641\n",
            " 0.19873366 0.1997549  0.2128268  0.21568627 0.20445261 0.21772876\n",
            " 0.21098856 0.21425654 0.19750817 0.18811275 0.17851307 0.17381536\n",
            " 0.16033497 0.16564542 0.17116013 0.17422386 0.18035131 0.17401961\n",
            " 0.16278595 0.16973039 0.17810458 0.17034314 0.16830065 0.17279412\n",
            " 0.17544935 0.18382353 0.19138072 0.18913399 0.19097222 0.17238562\n",
            " 0.16830065 0.1693219  0.17177288 0.16156046 0.14971405 0.1503268\n",
            " 0.15196078 0.14726307 0.14501634 0.14603758 0.12479575 0.13112745\n",
            " 0.11397059 0.1190768  0.12377451 0.13562092 0.12908497 0.13459967\n",
            " 0.12806373 0.13031046 0.12724673 0.13521242 0.14522059 0.15257353\n",
            " 0.14848856 0.14338235 0.14562908 0.15236928 0.15400327 0.14971405\n",
            " 0.1621732  0.16319444 0.16584967 0.16552642 0.16695285 0.16752136\n",
            " 0.16779609 0.16795589 0.16807076 0.16818166 0.16831322 0.16847678\n",
            " 0.16867404 0.16890106 0.16915135 0.16941789]\n",
            "13 day output [[0.16969468]]\n",
            "14day input[0.15992647 0.15788399 0.16441993 0.17892157 0.17933007 0.19260621\n",
            " 0.20812908 0.18974673 0.18055556 0.18239379 0.17708333 0.17810458\n",
            " 0.18055556 0.17810458 0.17851307 0.19607843 0.18913399 0.18954248\n",
            " 0.19403595 0.19444444 0.20200163 0.19771242 0.19934641 0.19873366\n",
            " 0.1997549  0.2128268  0.21568627 0.20445261 0.21772876 0.21098856\n",
            " 0.21425654 0.19750817 0.18811275 0.17851307 0.17381536 0.16033497\n",
            " 0.16564542 0.17116013 0.17422386 0.18035131 0.17401961 0.16278595\n",
            " 0.16973039 0.17810458 0.17034314 0.16830065 0.17279412 0.17544935\n",
            " 0.18382353 0.19138072 0.18913399 0.19097222 0.17238562 0.16830065\n",
            " 0.1693219  0.17177288 0.16156046 0.14971405 0.1503268  0.15196078\n",
            " 0.14726307 0.14501634 0.14603758 0.12479575 0.13112745 0.11397059\n",
            " 0.1190768  0.12377451 0.13562092 0.12908497 0.13459967 0.12806373\n",
            " 0.13031046 0.12724673 0.13521242 0.14522059 0.15257353 0.14848856\n",
            " 0.14338235 0.14562908 0.15236928 0.15400327 0.14971405 0.1621732\n",
            " 0.16319444 0.16584967 0.16552642 0.16695285 0.16752136 0.16779609\n",
            " 0.16795589 0.16807076 0.16818166 0.16831322 0.16847678 0.16867404\n",
            " 0.16890106 0.16915135 0.16941789 0.16969468]\n",
            "14 day output [[0.16997702]]\n",
            "15day input[0.15788399 0.16441993 0.17892157 0.17933007 0.19260621 0.20812908\n",
            " 0.18974673 0.18055556 0.18239379 0.17708333 0.17810458 0.18055556\n",
            " 0.17810458 0.17851307 0.19607843 0.18913399 0.18954248 0.19403595\n",
            " 0.19444444 0.20200163 0.19771242 0.19934641 0.19873366 0.1997549\n",
            " 0.2128268  0.21568627 0.20445261 0.21772876 0.21098856 0.21425654\n",
            " 0.19750817 0.18811275 0.17851307 0.17381536 0.16033497 0.16564542\n",
            " 0.17116013 0.17422386 0.18035131 0.17401961 0.16278595 0.16973039\n",
            " 0.17810458 0.17034314 0.16830065 0.17279412 0.17544935 0.18382353\n",
            " 0.19138072 0.18913399 0.19097222 0.17238562 0.16830065 0.1693219\n",
            " 0.17177288 0.16156046 0.14971405 0.1503268  0.15196078 0.14726307\n",
            " 0.14501634 0.14603758 0.12479575 0.13112745 0.11397059 0.1190768\n",
            " 0.12377451 0.13562092 0.12908497 0.13459967 0.12806373 0.13031046\n",
            " 0.12724673 0.13521242 0.14522059 0.15257353 0.14848856 0.14338235\n",
            " 0.14562908 0.15236928 0.15400327 0.14971405 0.1621732  0.16319444\n",
            " 0.16584967 0.16552642 0.16695285 0.16752136 0.16779609 0.16795589\n",
            " 0.16807076 0.16818166 0.16831322 0.16847678 0.16867404 0.16890106\n",
            " 0.16915135 0.16941789 0.16969468 0.16997702]\n",
            "15 day output [[0.17026162]]\n",
            "16day input[0.16441993 0.17892157 0.17933007 0.19260621 0.20812908 0.18974673\n",
            " 0.18055556 0.18239379 0.17708333 0.17810458 0.18055556 0.17810458\n",
            " 0.17851307 0.19607843 0.18913399 0.18954248 0.19403595 0.19444444\n",
            " 0.20200163 0.19771242 0.19934641 0.19873366 0.1997549  0.2128268\n",
            " 0.21568627 0.20445261 0.21772876 0.21098856 0.21425654 0.19750817\n",
            " 0.18811275 0.17851307 0.17381536 0.16033497 0.16564542 0.17116013\n",
            " 0.17422386 0.18035131 0.17401961 0.16278595 0.16973039 0.17810458\n",
            " 0.17034314 0.16830065 0.17279412 0.17544935 0.18382353 0.19138072\n",
            " 0.18913399 0.19097222 0.17238562 0.16830065 0.1693219  0.17177288\n",
            " 0.16156046 0.14971405 0.1503268  0.15196078 0.14726307 0.14501634\n",
            " 0.14603758 0.12479575 0.13112745 0.11397059 0.1190768  0.12377451\n",
            " 0.13562092 0.12908497 0.13459967 0.12806373 0.13031046 0.12724673\n",
            " 0.13521242 0.14522059 0.15257353 0.14848856 0.14338235 0.14562908\n",
            " 0.15236928 0.15400327 0.14971405 0.1621732  0.16319444 0.16584967\n",
            " 0.16552642 0.16695285 0.16752136 0.16779609 0.16795589 0.16807076\n",
            " 0.16818166 0.16831322 0.16847678 0.16867404 0.16890106 0.16915135\n",
            " 0.16941789 0.16969468 0.16997702 0.17026162]\n",
            "16 day output [[0.17054659]]\n",
            "17day input[0.17892157 0.17933007 0.19260621 0.20812908 0.18974673 0.18055556\n",
            " 0.18239379 0.17708333 0.17810458 0.18055556 0.17810458 0.17851307\n",
            " 0.19607843 0.18913399 0.18954248 0.19403595 0.19444444 0.20200163\n",
            " 0.19771242 0.19934641 0.19873366 0.1997549  0.2128268  0.21568627\n",
            " 0.20445261 0.21772876 0.21098856 0.21425654 0.19750817 0.18811275\n",
            " 0.17851307 0.17381536 0.16033497 0.16564542 0.17116013 0.17422386\n",
            " 0.18035131 0.17401961 0.16278595 0.16973039 0.17810458 0.17034314\n",
            " 0.16830065 0.17279412 0.17544935 0.18382353 0.19138072 0.18913399\n",
            " 0.19097222 0.17238562 0.16830065 0.1693219  0.17177288 0.16156046\n",
            " 0.14971405 0.1503268  0.15196078 0.14726307 0.14501634 0.14603758\n",
            " 0.12479575 0.13112745 0.11397059 0.1190768  0.12377451 0.13562092\n",
            " 0.12908497 0.13459967 0.12806373 0.13031046 0.12724673 0.13521242\n",
            " 0.14522059 0.15257353 0.14848856 0.14338235 0.14562908 0.15236928\n",
            " 0.15400327 0.14971405 0.1621732  0.16319444 0.16584967 0.16552642\n",
            " 0.16695285 0.16752136 0.16779609 0.16795589 0.16807076 0.16818166\n",
            " 0.16831322 0.16847678 0.16867404 0.16890106 0.16915135 0.16941789\n",
            " 0.16969468 0.16997702 0.17026162 0.17054659]\n",
            "17 day output [[0.17083082]]\n",
            "18day input[0.17933007 0.19260621 0.20812908 0.18974673 0.18055556 0.18239379\n",
            " 0.17708333 0.17810458 0.18055556 0.17810458 0.17851307 0.19607843\n",
            " 0.18913399 0.18954248 0.19403595 0.19444444 0.20200163 0.19771242\n",
            " 0.19934641 0.19873366 0.1997549  0.2128268  0.21568627 0.20445261\n",
            " 0.21772876 0.21098856 0.21425654 0.19750817 0.18811275 0.17851307\n",
            " 0.17381536 0.16033497 0.16564542 0.17116013 0.17422386 0.18035131\n",
            " 0.17401961 0.16278595 0.16973039 0.17810458 0.17034314 0.16830065\n",
            " 0.17279412 0.17544935 0.18382353 0.19138072 0.18913399 0.19097222\n",
            " 0.17238562 0.16830065 0.1693219  0.17177288 0.16156046 0.14971405\n",
            " 0.1503268  0.15196078 0.14726307 0.14501634 0.14603758 0.12479575\n",
            " 0.13112745 0.11397059 0.1190768  0.12377451 0.13562092 0.12908497\n",
            " 0.13459967 0.12806373 0.13031046 0.12724673 0.13521242 0.14522059\n",
            " 0.15257353 0.14848856 0.14338235 0.14562908 0.15236928 0.15400327\n",
            " 0.14971405 0.1621732  0.16319444 0.16584967 0.16552642 0.16695285\n",
            " 0.16752136 0.16779609 0.16795589 0.16807076 0.16818166 0.16831322\n",
            " 0.16847678 0.16867404 0.16890106 0.16915135 0.16941789 0.16969468\n",
            " 0.16997702 0.17026162 0.17054659 0.17083082]\n",
            "18 day output [[0.1711139]]\n",
            "19day input[0.19260621 0.20812908 0.18974673 0.18055556 0.18239379 0.17708333\n",
            " 0.17810458 0.18055556 0.17810458 0.17851307 0.19607843 0.18913399\n",
            " 0.18954248 0.19403595 0.19444444 0.20200163 0.19771242 0.19934641\n",
            " 0.19873366 0.1997549  0.2128268  0.21568627 0.20445261 0.21772876\n",
            " 0.21098856 0.21425654 0.19750817 0.18811275 0.17851307 0.17381536\n",
            " 0.16033497 0.16564542 0.17116013 0.17422386 0.18035131 0.17401961\n",
            " 0.16278595 0.16973039 0.17810458 0.17034314 0.16830065 0.17279412\n",
            " 0.17544935 0.18382353 0.19138072 0.18913399 0.19097222 0.17238562\n",
            " 0.16830065 0.1693219  0.17177288 0.16156046 0.14971405 0.1503268\n",
            " 0.15196078 0.14726307 0.14501634 0.14603758 0.12479575 0.13112745\n",
            " 0.11397059 0.1190768  0.12377451 0.13562092 0.12908497 0.13459967\n",
            " 0.12806373 0.13031046 0.12724673 0.13521242 0.14522059 0.15257353\n",
            " 0.14848856 0.14338235 0.14562908 0.15236928 0.15400327 0.14971405\n",
            " 0.1621732  0.16319444 0.16584967 0.16552642 0.16695285 0.16752136\n",
            " 0.16779609 0.16795589 0.16807076 0.16818166 0.16831322 0.16847678\n",
            " 0.16867404 0.16890106 0.16915135 0.16941789 0.16969468 0.16997702\n",
            " 0.17026162 0.17054659 0.17083082 0.17111389]\n",
            "19 day output [[0.17139578]]\n",
            "20day input[0.20812908 0.18974673 0.18055556 0.18239379 0.17708333 0.17810458\n",
            " 0.18055556 0.17810458 0.17851307 0.19607843 0.18913399 0.18954248\n",
            " 0.19403595 0.19444444 0.20200163 0.19771242 0.19934641 0.19873366\n",
            " 0.1997549  0.2128268  0.21568627 0.20445261 0.21772876 0.21098856\n",
            " 0.21425654 0.19750817 0.18811275 0.17851307 0.17381536 0.16033497\n",
            " 0.16564542 0.17116013 0.17422386 0.18035131 0.17401961 0.16278595\n",
            " 0.16973039 0.17810458 0.17034314 0.16830065 0.17279412 0.17544935\n",
            " 0.18382353 0.19138072 0.18913399 0.19097222 0.17238562 0.16830065\n",
            " 0.1693219  0.17177288 0.16156046 0.14971405 0.1503268  0.15196078\n",
            " 0.14726307 0.14501634 0.14603758 0.12479575 0.13112745 0.11397059\n",
            " 0.1190768  0.12377451 0.13562092 0.12908497 0.13459967 0.12806373\n",
            " 0.13031046 0.12724673 0.13521242 0.14522059 0.15257353 0.14848856\n",
            " 0.14338235 0.14562908 0.15236928 0.15400327 0.14971405 0.1621732\n",
            " 0.16319444 0.16584967 0.16552642 0.16695285 0.16752136 0.16779609\n",
            " 0.16795589 0.16807076 0.16818166 0.16831322 0.16847678 0.16867404\n",
            " 0.16890106 0.16915135 0.16941789 0.16969468 0.16997702 0.17026162\n",
            " 0.17054659 0.17083082 0.17111389 0.17139578]\n",
            "20 day output [[0.17167632]]\n",
            "21day input[0.18974673 0.18055556 0.18239379 0.17708333 0.17810458 0.18055556\n",
            " 0.17810458 0.17851307 0.19607843 0.18913399 0.18954248 0.19403595\n",
            " 0.19444444 0.20200163 0.19771242 0.19934641 0.19873366 0.1997549\n",
            " 0.2128268  0.21568627 0.20445261 0.21772876 0.21098856 0.21425654\n",
            " 0.19750817 0.18811275 0.17851307 0.17381536 0.16033497 0.16564542\n",
            " 0.17116013 0.17422386 0.18035131 0.17401961 0.16278595 0.16973039\n",
            " 0.17810458 0.17034314 0.16830065 0.17279412 0.17544935 0.18382353\n",
            " 0.19138072 0.18913399 0.19097222 0.17238562 0.16830065 0.1693219\n",
            " 0.17177288 0.16156046 0.14971405 0.1503268  0.15196078 0.14726307\n",
            " 0.14501634 0.14603758 0.12479575 0.13112745 0.11397059 0.1190768\n",
            " 0.12377451 0.13562092 0.12908497 0.13459967 0.12806373 0.13031046\n",
            " 0.12724673 0.13521242 0.14522059 0.15257353 0.14848856 0.14338235\n",
            " 0.14562908 0.15236928 0.15400327 0.14971405 0.1621732  0.16319444\n",
            " 0.16584967 0.16552642 0.16695285 0.16752136 0.16779609 0.16795589\n",
            " 0.16807076 0.16818166 0.16831322 0.16847678 0.16867404 0.16890106\n",
            " 0.16915135 0.16941789 0.16969468 0.16997702 0.17026162 0.17054659\n",
            " 0.17083082 0.17111389 0.17139578 0.17167632]\n",
            "21 day output [[0.1719554]]\n",
            "22day input[0.18055556 0.18239379 0.17708333 0.17810458 0.18055556 0.17810458\n",
            " 0.17851307 0.19607843 0.18913399 0.18954248 0.19403595 0.19444444\n",
            " 0.20200163 0.19771242 0.19934641 0.19873366 0.1997549  0.2128268\n",
            " 0.21568627 0.20445261 0.21772876 0.21098856 0.21425654 0.19750817\n",
            " 0.18811275 0.17851307 0.17381536 0.16033497 0.16564542 0.17116013\n",
            " 0.17422386 0.18035131 0.17401961 0.16278595 0.16973039 0.17810458\n",
            " 0.17034314 0.16830065 0.17279412 0.17544935 0.18382353 0.19138072\n",
            " 0.18913399 0.19097222 0.17238562 0.16830065 0.1693219  0.17177288\n",
            " 0.16156046 0.14971405 0.1503268  0.15196078 0.14726307 0.14501634\n",
            " 0.14603758 0.12479575 0.13112745 0.11397059 0.1190768  0.12377451\n",
            " 0.13562092 0.12908497 0.13459967 0.12806373 0.13031046 0.12724673\n",
            " 0.13521242 0.14522059 0.15257353 0.14848856 0.14338235 0.14562908\n",
            " 0.15236928 0.15400327 0.14971405 0.1621732  0.16319444 0.16584967\n",
            " 0.16552642 0.16695285 0.16752136 0.16779609 0.16795589 0.16807076\n",
            " 0.16818166 0.16831322 0.16847678 0.16867404 0.16890106 0.16915135\n",
            " 0.16941789 0.16969468 0.16997702 0.17026162 0.17054659 0.17083082\n",
            " 0.17111389 0.17139578 0.17167632 0.17195541]\n",
            "22 day output [[0.1722328]]\n",
            "23day input[0.18239379 0.17708333 0.17810458 0.18055556 0.17810458 0.17851307\n",
            " 0.19607843 0.18913399 0.18954248 0.19403595 0.19444444 0.20200163\n",
            " 0.19771242 0.19934641 0.19873366 0.1997549  0.2128268  0.21568627\n",
            " 0.20445261 0.21772876 0.21098856 0.21425654 0.19750817 0.18811275\n",
            " 0.17851307 0.17381536 0.16033497 0.16564542 0.17116013 0.17422386\n",
            " 0.18035131 0.17401961 0.16278595 0.16973039 0.17810458 0.17034314\n",
            " 0.16830065 0.17279412 0.17544935 0.18382353 0.19138072 0.18913399\n",
            " 0.19097222 0.17238562 0.16830065 0.1693219  0.17177288 0.16156046\n",
            " 0.14971405 0.1503268  0.15196078 0.14726307 0.14501634 0.14603758\n",
            " 0.12479575 0.13112745 0.11397059 0.1190768  0.12377451 0.13562092\n",
            " 0.12908497 0.13459967 0.12806373 0.13031046 0.12724673 0.13521242\n",
            " 0.14522059 0.15257353 0.14848856 0.14338235 0.14562908 0.15236928\n",
            " 0.15400327 0.14971405 0.1621732  0.16319444 0.16584967 0.16552642\n",
            " 0.16695285 0.16752136 0.16779609 0.16795589 0.16807076 0.16818166\n",
            " 0.16831322 0.16847678 0.16867404 0.16890106 0.16915135 0.16941789\n",
            " 0.16969468 0.16997702 0.17026162 0.17054659 0.17083082 0.17111389\n",
            " 0.17139578 0.17167632 0.17195541 0.17223281]\n",
            "23 day output [[0.172508]]\n",
            "24day input[0.17708333 0.17810458 0.18055556 0.17810458 0.17851307 0.19607843\n",
            " 0.18913399 0.18954248 0.19403595 0.19444444 0.20200163 0.19771242\n",
            " 0.19934641 0.19873366 0.1997549  0.2128268  0.21568627 0.20445261\n",
            " 0.21772876 0.21098856 0.21425654 0.19750817 0.18811275 0.17851307\n",
            " 0.17381536 0.16033497 0.16564542 0.17116013 0.17422386 0.18035131\n",
            " 0.17401961 0.16278595 0.16973039 0.17810458 0.17034314 0.16830065\n",
            " 0.17279412 0.17544935 0.18382353 0.19138072 0.18913399 0.19097222\n",
            " 0.17238562 0.16830065 0.1693219  0.17177288 0.16156046 0.14971405\n",
            " 0.1503268  0.15196078 0.14726307 0.14501634 0.14603758 0.12479575\n",
            " 0.13112745 0.11397059 0.1190768  0.12377451 0.13562092 0.12908497\n",
            " 0.13459967 0.12806373 0.13031046 0.12724673 0.13521242 0.14522059\n",
            " 0.15257353 0.14848856 0.14338235 0.14562908 0.15236928 0.15400327\n",
            " 0.14971405 0.1621732  0.16319444 0.16584967 0.16552642 0.16695285\n",
            " 0.16752136 0.16779609 0.16795589 0.16807076 0.16818166 0.16831322\n",
            " 0.16847678 0.16867404 0.16890106 0.16915135 0.16941789 0.16969468\n",
            " 0.16997702 0.17026162 0.17054659 0.17083082 0.17111389 0.17139578\n",
            " 0.17167632 0.17195541 0.17223281 0.172508  ]\n",
            "24 day output [[0.17278044]]\n",
            "25day input[0.17810458 0.18055556 0.17810458 0.17851307 0.19607843 0.18913399\n",
            " 0.18954248 0.19403595 0.19444444 0.20200163 0.19771242 0.19934641\n",
            " 0.19873366 0.1997549  0.2128268  0.21568627 0.20445261 0.21772876\n",
            " 0.21098856 0.21425654 0.19750817 0.18811275 0.17851307 0.17381536\n",
            " 0.16033497 0.16564542 0.17116013 0.17422386 0.18035131 0.17401961\n",
            " 0.16278595 0.16973039 0.17810458 0.17034314 0.16830065 0.17279412\n",
            " 0.17544935 0.18382353 0.19138072 0.18913399 0.19097222 0.17238562\n",
            " 0.16830065 0.1693219  0.17177288 0.16156046 0.14971405 0.1503268\n",
            " 0.15196078 0.14726307 0.14501634 0.14603758 0.12479575 0.13112745\n",
            " 0.11397059 0.1190768  0.12377451 0.13562092 0.12908497 0.13459967\n",
            " 0.12806373 0.13031046 0.12724673 0.13521242 0.14522059 0.15257353\n",
            " 0.14848856 0.14338235 0.14562908 0.15236928 0.15400327 0.14971405\n",
            " 0.1621732  0.16319444 0.16584967 0.16552642 0.16695285 0.16752136\n",
            " 0.16779609 0.16795589 0.16807076 0.16818166 0.16831322 0.16847678\n",
            " 0.16867404 0.16890106 0.16915135 0.16941789 0.16969468 0.16997702\n",
            " 0.17026162 0.17054659 0.17083082 0.17111389 0.17139578 0.17167632\n",
            " 0.17195541 0.17223281 0.172508   0.17278044]\n",
            "25 day output [[0.17304935]]\n",
            "26day input[0.18055556 0.17810458 0.17851307 0.19607843 0.18913399 0.18954248\n",
            " 0.19403595 0.19444444 0.20200163 0.19771242 0.19934641 0.19873366\n",
            " 0.1997549  0.2128268  0.21568627 0.20445261 0.21772876 0.21098856\n",
            " 0.21425654 0.19750817 0.18811275 0.17851307 0.17381536 0.16033497\n",
            " 0.16564542 0.17116013 0.17422386 0.18035131 0.17401961 0.16278595\n",
            " 0.16973039 0.17810458 0.17034314 0.16830065 0.17279412 0.17544935\n",
            " 0.18382353 0.19138072 0.18913399 0.19097222 0.17238562 0.16830065\n",
            " 0.1693219  0.17177288 0.16156046 0.14971405 0.1503268  0.15196078\n",
            " 0.14726307 0.14501634 0.14603758 0.12479575 0.13112745 0.11397059\n",
            " 0.1190768  0.12377451 0.13562092 0.12908497 0.13459967 0.12806373\n",
            " 0.13031046 0.12724673 0.13521242 0.14522059 0.15257353 0.14848856\n",
            " 0.14338235 0.14562908 0.15236928 0.15400327 0.14971405 0.1621732\n",
            " 0.16319444 0.16584967 0.16552642 0.16695285 0.16752136 0.16779609\n",
            " 0.16795589 0.16807076 0.16818166 0.16831322 0.16847678 0.16867404\n",
            " 0.16890106 0.16915135 0.16941789 0.16969468 0.16997702 0.17026162\n",
            " 0.17054659 0.17083082 0.17111389 0.17139578 0.17167632 0.17195541\n",
            " 0.17223281 0.172508   0.17278044 0.17304935]\n",
            "26 day output [[0.1733141]]\n",
            "27day input[0.17810458 0.17851307 0.19607843 0.18913399 0.18954248 0.19403595\n",
            " 0.19444444 0.20200163 0.19771242 0.19934641 0.19873366 0.1997549\n",
            " 0.2128268  0.21568627 0.20445261 0.21772876 0.21098856 0.21425654\n",
            " 0.19750817 0.18811275 0.17851307 0.17381536 0.16033497 0.16564542\n",
            " 0.17116013 0.17422386 0.18035131 0.17401961 0.16278595 0.16973039\n",
            " 0.17810458 0.17034314 0.16830065 0.17279412 0.17544935 0.18382353\n",
            " 0.19138072 0.18913399 0.19097222 0.17238562 0.16830065 0.1693219\n",
            " 0.17177288 0.16156046 0.14971405 0.1503268  0.15196078 0.14726307\n",
            " 0.14501634 0.14603758 0.12479575 0.13112745 0.11397059 0.1190768\n",
            " 0.12377451 0.13562092 0.12908497 0.13459967 0.12806373 0.13031046\n",
            " 0.12724673 0.13521242 0.14522059 0.15257353 0.14848856 0.14338235\n",
            " 0.14562908 0.15236928 0.15400327 0.14971405 0.1621732  0.16319444\n",
            " 0.16584967 0.16552642 0.16695285 0.16752136 0.16779609 0.16795589\n",
            " 0.16807076 0.16818166 0.16831322 0.16847678 0.16867404 0.16890106\n",
            " 0.16915135 0.16941789 0.16969468 0.16997702 0.17026162 0.17054659\n",
            " 0.17083082 0.17111389 0.17139578 0.17167632 0.17195541 0.17223281\n",
            " 0.172508   0.17278044 0.17304935 0.17331409]\n",
            "27 day output [[0.17357385]]\n",
            "28day input[0.17851307 0.19607843 0.18913399 0.18954248 0.19403595 0.19444444\n",
            " 0.20200163 0.19771242 0.19934641 0.19873366 0.1997549  0.2128268\n",
            " 0.21568627 0.20445261 0.21772876 0.21098856 0.21425654 0.19750817\n",
            " 0.18811275 0.17851307 0.17381536 0.16033497 0.16564542 0.17116013\n",
            " 0.17422386 0.18035131 0.17401961 0.16278595 0.16973039 0.17810458\n",
            " 0.17034314 0.16830065 0.17279412 0.17544935 0.18382353 0.19138072\n",
            " 0.18913399 0.19097222 0.17238562 0.16830065 0.1693219  0.17177288\n",
            " 0.16156046 0.14971405 0.1503268  0.15196078 0.14726307 0.14501634\n",
            " 0.14603758 0.12479575 0.13112745 0.11397059 0.1190768  0.12377451\n",
            " 0.13562092 0.12908497 0.13459967 0.12806373 0.13031046 0.12724673\n",
            " 0.13521242 0.14522059 0.15257353 0.14848856 0.14338235 0.14562908\n",
            " 0.15236928 0.15400327 0.14971405 0.1621732  0.16319444 0.16584967\n",
            " 0.16552642 0.16695285 0.16752136 0.16779609 0.16795589 0.16807076\n",
            " 0.16818166 0.16831322 0.16847678 0.16867404 0.16890106 0.16915135\n",
            " 0.16941789 0.16969468 0.16997702 0.17026162 0.17054659 0.17083082\n",
            " 0.17111389 0.17139578 0.17167632 0.17195541 0.17223281 0.172508\n",
            " 0.17278044 0.17304935 0.17331409 0.17357385]\n",
            "28 day output [[0.1738281]]\n",
            "29day input[0.19607843 0.18913399 0.18954248 0.19403595 0.19444444 0.20200163\n",
            " 0.19771242 0.19934641 0.19873366 0.1997549  0.2128268  0.21568627\n",
            " 0.20445261 0.21772876 0.21098856 0.21425654 0.19750817 0.18811275\n",
            " 0.17851307 0.17381536 0.16033497 0.16564542 0.17116013 0.17422386\n",
            " 0.18035131 0.17401961 0.16278595 0.16973039 0.17810458 0.17034314\n",
            " 0.16830065 0.17279412 0.17544935 0.18382353 0.19138072 0.18913399\n",
            " 0.19097222 0.17238562 0.16830065 0.1693219  0.17177288 0.16156046\n",
            " 0.14971405 0.1503268  0.15196078 0.14726307 0.14501634 0.14603758\n",
            " 0.12479575 0.13112745 0.11397059 0.1190768  0.12377451 0.13562092\n",
            " 0.12908497 0.13459967 0.12806373 0.13031046 0.12724673 0.13521242\n",
            " 0.14522059 0.15257353 0.14848856 0.14338235 0.14562908 0.15236928\n",
            " 0.15400327 0.14971405 0.1621732  0.16319444 0.16584967 0.16552642\n",
            " 0.16695285 0.16752136 0.16779609 0.16795589 0.16807076 0.16818166\n",
            " 0.16831322 0.16847678 0.16867404 0.16890106 0.16915135 0.16941789\n",
            " 0.16969468 0.16997702 0.17026162 0.17054659 0.17083082 0.17111389\n",
            " 0.17139578 0.17167632 0.17195541 0.17223281 0.172508   0.17278044\n",
            " 0.17304935 0.17331409 0.17357385 0.1738281 ]\n",
            "29 day output [[0.17407618]]\n",
            "[[0.16552641987800598], [0.16695284843444824], [0.16752135753631592], [0.1677960902452469], [0.1679558902978897], [0.16807076334953308], [0.1681816577911377], [0.16831322014331818], [0.16847677528858185], [0.168674036860466], [0.16890105605125427], [0.16915135085582733], [0.16941788792610168], [0.1696946769952774], [0.16997702419757843], [0.17026162147521973], [0.17054659128189087], [0.17083081603050232], [0.17111389338970184], [0.17139577865600586], [0.17167632281780243], [0.171955406665802], [0.17223280668258667], [0.17250800132751465], [0.17278043925762177], [0.17304934561252594], [0.17331409454345703], [0.17357385158538818], [0.1738280951976776], [0.17407618463039398]]\n"
          ]
        }
      ]
    },
    {
      "cell_type": "code",
      "source": [
        "day_new = np.arange(1,101)\n",
        "day_pred = np.arange(101,131)"
      ],
      "metadata": {
        "id": "PptyK1l6huae"
      },
      "execution_count": 30,
      "outputs": []
    },
    {
      "cell_type": "code",
      "source": [
        "df3 = data_close.tolist()\n",
        "df3.extend(first_output)"
      ],
      "metadata": {
        "id": "pyFJLfZaiHqL"
      },
      "execution_count": 31,
      "outputs": []
    },
    {
      "cell_type": "code",
      "source": [
        "len(data_close)\n"
      ],
      "metadata": {
        "colab": {
          "base_uri": "https://localhost:8080/"
        },
        "id": "oEf3szg2iKwS",
        "outputId": "6fb5ac82-cf4c-4640-e660-f716345a331f"
      },
      "execution_count": 32,
      "outputs": [
        {
          "output_type": "execute_result",
          "data": {
            "text/plain": [
              "2035"
            ]
          },
          "metadata": {},
          "execution_count": 32
        }
      ]
    },
    {
      "cell_type": "code",
      "source": [
        "plt.plot(day_new, scaler.inverse_transform(data_close[1935:]))\n",
        "plt.plot(day_pred, scaler.inverse_transform(first_output))"
      ],
      "metadata": {
        "colab": {
          "base_uri": "https://localhost:8080/",
          "height": 282
        },
        "id": "ZIGsyz_viMVY",
        "outputId": "47190342-bf2c-4312-9af5-c662dc090708"
      },
      "execution_count": 33,
      "outputs": [
        {
          "output_type": "execute_result",
          "data": {
            "text/plain": [
              "[<matplotlib.lines.Line2D at 0x7f9f799a2150>]"
            ]
          },
          "metadata": {},
          "execution_count": 33
        },
        {
          "output_type": "display_data",
          "data": {
            "image/png": "[encoded data removed]",
            "text/plain": [
              "<Figure size 432x288 with 1 Axes>"
            ]
          },
          "metadata": {
            "needs_background": "light"
          }
        }
      ]
    },
    {
      "cell_type": "code",
      "source": [
        ""
      ],
      "metadata": {
        "id": "1lNC8dKEiQUv"
      },
      "execution_count": null,
      "outputs": []
    }
  ]
}